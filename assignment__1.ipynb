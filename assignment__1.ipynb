{
  "nbformat": 4,
  "nbformat_minor": 0,
  "metadata": {
    "colab": {
      "provenance": []
    },
    "kernelspec": {
      "name": "python3",
      "display_name": "Python 3"
    },
    "language_info": {
      "name": "python"
    }
  },
  "cells": [
    {
      "cell_type": "markdown",
      "source": [
        "Q1. Create a list of five integers and print it"
      ],
      "metadata": {
        "id": "EJuZzMwLiXwr"
      }
    },
    {
      "cell_type": "code",
      "execution_count": 2,
      "metadata": {
        "colab": {
          "base_uri": "https://localhost:8080/"
        },
        "id": "afmgAet_iUY_",
        "outputId": "52e7790c-afff-4f31-f4b7-78c97c94627b"
      },
      "outputs": [
        {
          "output_type": "stream",
          "name": "stdout",
          "text": [
            "my_list: [1, 2, 3, 4, 5]\n"
          ]
        }
      ],
      "source": [
        "numbers = list([1, 2, 3, 4, 5])\n",
        "print(\"my_list:\",numbers)"
      ]
    },
    {
      "cell_type": "markdown",
      "source": [
        "### Q2. Write a program to find the length of a list."
      ],
      "metadata": {
        "id": "lUBhe85hjQ1y"
      }
    },
    {
      "cell_type": "code",
      "source": [
        "my_list = [1, 2, 3, 4, 5]\n",
        "print(\"length of my_list :\",len(my_list))"
      ],
      "metadata": {
        "colab": {
          "base_uri": "https://localhost:8080/"
        },
        "id": "NhvfAh5djJOD",
        "outputId": "c715f616-9140-459a-86a9-ff41a2d75aa6"
      },
      "execution_count": 3,
      "outputs": [
        {
          "output_type": "stream",
          "name": "stdout",
          "text": [
            "length of my_list : 5\n"
          ]
        }
      ]
    },
    {
      "cell_type": "markdown",
      "source": [
        "### Q3. Create a tuple with three elements and print the second item."
      ],
      "metadata": {
        "id": "kEbxJV6gjYKK"
      }
    },
    {
      "cell_type": "code",
      "source": [
        "my_tuple = (4, 6, 12)\n",
        "print(\"second item :\", my_tuple[1])"
      ],
      "metadata": {
        "colab": {
          "base_uri": "https://localhost:8080/"
        },
        "id": "oNihVxs_jaZ5",
        "outputId": "931a9a8b-7446-4e38-b751-b432645458e9"
      },
      "execution_count": 4,
      "outputs": [
        {
          "output_type": "stream",
          "name": "stdout",
          "text": [
            "second item : 6\n"
          ]
        }
      ]
    },
    {
      "cell_type": "markdown",
      "source": [
        "### Q4. Create a dictionary with 3 key-value pairs and print all keys."
      ],
      "metadata": {
        "id": "9dWtvDH2jfip"
      }
    },
    {
      "cell_type": "code",
      "source": [
        "my_dict = {\"name\": \"Laila\", \"age\": 20, \"country\": \"Egypt\"}\n",
        "print(my_dict.keys())"
      ],
      "metadata": {
        "colab": {
          "base_uri": "https://localhost:8080/"
        },
        "id": "ujtFnstljiLV",
        "outputId": "e84a87d1-2ca3-4b43-e0d9-c46e5e60a9ad"
      },
      "execution_count": 5,
      "outputs": [
        {
          "output_type": "stream",
          "name": "stdout",
          "text": [
            "dict_keys(['name', 'age', 'country'])\n"
          ]
        }
      ]
    },
    {
      "cell_type": "markdown",
      "source": [
        "### Q5. Write a program to convert a list into a set."
      ],
      "metadata": {
        "id": "Ax0WkKrwjmZB"
      }
    },
    {
      "cell_type": "code",
      "source": [
        "my_list = [1, 2, 3, 2, 4, 1]\n",
        "my_set = set(my_list)\n",
        "print(\"Set:\", my_set)"
      ],
      "metadata": {
        "colab": {
          "base_uri": "https://localhost:8080/"
        },
        "id": "uLKzP3BqjpIB",
        "outputId": "ea42a6a5-4bad-4c20-be58-8235cddd3143"
      },
      "execution_count": 6,
      "outputs": [
        {
          "output_type": "stream",
          "name": "stdout",
          "text": [
            "Set: {1, 2, 3, 4}\n"
          ]
        }
      ]
    },
    {
      "cell_type": "markdown",
      "source": [
        "### Q6. Create a string and print its first and last characters."
      ],
      "metadata": {
        "id": "iK0AGjE_jtpp"
      }
    },
    {
      "cell_type": "code",
      "source": [
        "my_string = \"laila\"\n",
        "print(\"First character:\", my_string[0])\n",
        "print(\"Last character:\", my_string[-1])"
      ],
      "metadata": {
        "colab": {
          "base_uri": "https://localhost:8080/"
        },
        "id": "A9ZabPtmjwM2",
        "outputId": "e09704db-081b-4e64-8852-92fa0d3f2409"
      },
      "execution_count": 7,
      "outputs": [
        {
          "output_type": "stream",
          "name": "stdout",
          "text": [
            "First character: l\n",
            "Last character: a\n"
          ]
        }
      ]
    },
    {
      "cell_type": "markdown",
      "source": [
        "### Q7. Take input from the user and print it."
      ],
      "metadata": {
        "id": "y7v3290tjzaK"
      }
    },
    {
      "cell_type": "code",
      "source": [
        "input1 = input(\"Enter something: \")\n",
        "print(\" entered:\", input1)"
      ],
      "metadata": {
        "colab": {
          "base_uri": "https://localhost:8080/"
        },
        "id": "w5riT0Gqj2ID",
        "outputId": "34656623-085f-4a47-8f21-84aa9d2118fc"
      },
      "execution_count": 8,
      "outputs": [
        {
          "output_type": "stream",
          "name": "stdout",
          "text": [
            "Enter something: laila\n",
            " entered: laila\n"
          ]
        }
      ]
    },
    {
      "cell_type": "markdown",
      "source": [
        "### Q8. Write a program to add two numbers entered by the user."
      ],
      "metadata": {
        "id": "TvszRlvWj8Ko"
      }
    },
    {
      "cell_type": "code",
      "source": [
        "num1 = int(input(\"Enter first number: \"))\n",
        "num2 = int(input(\"Enter second number: \"))\n",
        "total = num1 + num2\n",
        "print(\"The sum is:\", total)\n"
      ],
      "metadata": {
        "colab": {
          "base_uri": "https://localhost:8080/"
        },
        "id": "9EWH1F0lj-OB",
        "outputId": "c7d25bf1-38cb-4e71-960b-bf37bee93c1c"
      },
      "execution_count": 9,
      "outputs": [
        {
          "output_type": "stream",
          "name": "stdout",
          "text": [
            "Enter first number: 5\n",
            "Enter second number: 4\n",
            "The sum is: 9\n"
          ]
        }
      ]
    },
    {
      "cell_type": "markdown",
      "source": [
        "### Q9. Use `type()` function to check the data type of a variable."
      ],
      "metadata": {
        "id": "9F7dgRFfkBOg"
      }
    },
    {
      "cell_type": "code",
      "source": [
        "my_var = 50\n",
        "print(\"The type:\", type(my_var))\n"
      ],
      "metadata": {
        "colab": {
          "base_uri": "https://localhost:8080/"
        },
        "id": "SzOsVEh3kCOI",
        "outputId": "f26648ee-a4ba-435f-8abc-2504f4753000"
      },
      "execution_count": 11,
      "outputs": [
        {
          "output_type": "stream",
          "name": "stdout",
          "text": [
            "The type: <class 'int'>\n"
          ]
        }
      ]
    },
    {
      "cell_type": "markdown",
      "source": [
        "### Q10. Create a boolean variable and print it."
      ],
      "metadata": {
        "id": "zn6epgGrkDcu"
      }
    },
    {
      "cell_type": "code",
      "source": [
        " my_var= True\n",
        "print(\"The value:\", my_var)\n"
      ],
      "metadata": {
        "colab": {
          "base_uri": "https://localhost:8080/"
        },
        "id": "3Bn5nP9VkGS8",
        "outputId": "decba1fc-cba6-43fa-8033-64de7e6d4b48"
      },
      "execution_count": 12,
      "outputs": [
        {
          "output_type": "stream",
          "name": "stdout",
          "text": [
            "The value: True\n"
          ]
        }
      ]
    },
    {
      "cell_type": "markdown",
      "source": [
        "### Q11. Check if a number is positive, negative, or zero using `if` statement."
      ],
      "metadata": {
        "id": "iZATd1dck05b"
      }
    },
    {
      "cell_type": "code",
      "source": [
        "num = int(input(\"Enter a number: \"))\n",
        "if num > 0:\n",
        "    print(\"The number is positive.\")\n",
        "elif num < 0:\n",
        "    print(\"The number is negative.\")\n",
        "else:\n",
        "    print(\"The number is zero.\")\n"
      ],
      "metadata": {
        "colab": {
          "base_uri": "https://localhost:8080/"
        },
        "id": "BKiVTxIuk0Js",
        "outputId": "9f1e80ae-1f46-4b7c-b53e-3d6c216a7340"
      },
      "execution_count": 13,
      "outputs": [
        {
          "output_type": "stream",
          "name": "stdout",
          "text": [
            "Enter a number: 5\n",
            "The number is positive.\n"
          ]
        }
      ]
    },
    {
      "cell_type": "markdown",
      "source": [
        "### Q12. Write a program to check if a number is even or odd."
      ],
      "metadata": {
        "id": "VRRJfG-Ok3np"
      }
    },
    {
      "cell_type": "code",
      "source": [
        "num = int(input(\"Enter a number: \"))\n",
        "if num % 2 == 0:\n",
        "    print(\"The number is even.\")\n",
        "else:\n",
        "    print(\"The number is odd.\")\n"
      ],
      "metadata": {
        "colab": {
          "base_uri": "https://localhost:8080/"
        },
        "id": "CQ2Lc2kHk7-d",
        "outputId": "9c4a057d-da7c-42fe-e951-b947097fd6ef"
      },
      "execution_count": 14,
      "outputs": [
        {
          "output_type": "stream",
          "name": "stdout",
          "text": [
            "Enter a number: 4\n",
            "The number is even.\n"
          ]
        }
      ]
    },
    {
      "cell_type": "markdown",
      "source": [
        "### Q13. Write a program that prints your name 3 times using a `for` loop."
      ],
      "metadata": {
        "id": "eLBnAyIrk8eV"
      }
    },
    {
      "cell_type": "code",
      "source": [
        "for i in range(3):\n",
        "    print(\"Laila\")\n"
      ],
      "metadata": {
        "colab": {
          "base_uri": "https://localhost:8080/"
        },
        "id": "RyU8Xgu1k_U8",
        "outputId": "aee3c03f-3355-4233-ac5e-be47daf41b0e"
      },
      "execution_count": 15,
      "outputs": [
        {
          "output_type": "stream",
          "name": "stdout",
          "text": [
            "Laila\n",
            "Laila\n",
            "Laila\n"
          ]
        }
      ]
    },
    {
      "cell_type": "markdown",
      "source": [
        "### Q14. Write a `for` loop that prints numbers from 1 to 10."
      ],
      "metadata": {
        "id": "k8JgQ_9Jk_n0"
      }
    },
    {
      "cell_type": "code",
      "source": [
        "for i in range(1, 11):\n",
        "    print(i)\n"
      ],
      "metadata": {
        "colab": {
          "base_uri": "https://localhost:8080/"
        },
        "id": "6JNPatVflCqM",
        "outputId": "9e320802-3628-463b-f427-b337dd73ccfe"
      },
      "execution_count": 16,
      "outputs": [
        {
          "output_type": "stream",
          "name": "stdout",
          "text": [
            "1\n",
            "2\n",
            "3\n",
            "4\n",
            "5\n",
            "6\n",
            "7\n",
            "8\n",
            "9\n",
            "10\n"
          ]
        }
      ]
    },
    {
      "cell_type": "markdown",
      "source": [
        "### Q15. Use a `for` loop to iterate over a list and print each element."
      ],
      "metadata": {
        "id": "qn12qwmTlC_s"
      }
    },
    {
      "cell_type": "code",
      "source": [
        "my_list = [10, 20, 30, 40, 50]\n",
        "for item in my_list:\n",
        "    print(item)\n"
      ],
      "metadata": {
        "colab": {
          "base_uri": "https://localhost:8080/"
        },
        "id": "eQa8UY8ZlGHM",
        "outputId": "650e4473-b554-4e23-af52-f1b68b398577"
      },
      "execution_count": 17,
      "outputs": [
        {
          "output_type": "stream",
          "name": "stdout",
          "text": [
            "10\n",
            "20\n",
            "30\n",
            "40\n",
            "50\n"
          ]
        }
      ]
    },
    {
      "cell_type": "markdown",
      "source": [
        "### Q16. Write a program to calculate the sum of numbers from 1 to 100."
      ],
      "metadata": {
        "id": "ZTDUIJ67lGVl"
      }
    },
    {
      "cell_type": "code",
      "source": [
        "total = 0\n",
        "for i in range(1, 100):\n",
        "    total += i\n",
        "print(\"The sum from 1 to 100 is:\", total)\n"
      ],
      "metadata": {
        "colab": {
          "base_uri": "https://localhost:8080/"
        },
        "id": "BdFvT_LWlIot",
        "outputId": "58cecf8b-f5cb-4e1d-b436-659d057c8721"
      },
      "execution_count": 19,
      "outputs": [
        {
          "output_type": "stream",
          "name": "stdout",
          "text": [
            "The sum from 1 to 100 is: 4950\n"
          ]
        }
      ]
    },
    {
      "cell_type": "markdown",
      "source": [
        "### Q17. Write a `for` loop that prints only even numbers from 1 to 20."
      ],
      "metadata": {
        "id": "KMcjEN01lJI4"
      }
    },
    {
      "cell_type": "code",
      "source": [
        "for i in range(1, 21):\n",
        "    if i % 2 == 0:\n",
        "        print(i)\n"
      ],
      "metadata": {
        "colab": {
          "base_uri": "https://localhost:8080/"
        },
        "id": "r3Tl6bPblLhR",
        "outputId": "fccd5757-0084-4f76-dbbb-5ce6c5071e74"
      },
      "execution_count": 20,
      "outputs": [
        {
          "output_type": "stream",
          "name": "stdout",
          "text": [
            "2\n",
            "4\n",
            "6\n",
            "8\n",
            "10\n",
            "12\n",
            "14\n",
            "16\n",
            "18\n",
            "20\n"
          ]
        }
      ]
    },
    {
      "cell_type": "markdown",
      "source": [
        "### Q18. Write a `for` loop to print each character in a string."
      ],
      "metadata": {
        "id": "C5bB2SXVlL_F"
      }
    },
    {
      "cell_type": "code",
      "source": [
        "my_string = \"Python\"\n",
        "for val in my_string:\n",
        "    print(val)\n"
      ],
      "metadata": {
        "colab": {
          "base_uri": "https://localhost:8080/"
        },
        "id": "EXSx7xAZlNuG",
        "outputId": "ea9f2bac-6d8f-46db-88b8-efb283eb8a07"
      },
      "execution_count": 21,
      "outputs": [
        {
          "output_type": "stream",
          "name": "stdout",
          "text": [
            "P\n",
            "y\n",
            "t\n",
            "h\n",
            "o\n",
            "n\n"
          ]
        }
      ]
    },
    {
      "cell_type": "markdown",
      "source": [
        "### Q19. Use a `for` loop to print all values in a dictionary."
      ],
      "metadata": {
        "id": "7Bd3fQmVlQ5Q"
      }
    },
    {
      "cell_type": "code",
      "source": [
        "my_dict = {\"name\": \"Laila\",\"age\": 22, \"country\": \"Egypt\"}\n",
        "for value in my_dict.values():\n",
        "    print(value)\n"
      ],
      "metadata": {
        "colab": {
          "base_uri": "https://localhost:8080/"
        },
        "id": "edXuTPOhlSrg",
        "outputId": "e75ba806-9acd-4361-fb68-7fc93f02d0ff"
      },
      "execution_count": 22,
      "outputs": [
        {
          "output_type": "stream",
          "name": "stdout",
          "text": [
            "Laila\n",
            "22\n",
            "Egypt\n"
          ]
        }
      ]
    },
    {
      "cell_type": "markdown",
      "source": [
        "### Q20. Write a program that uses a `for` loop to find the factorial of a number."
      ],
      "metadata": {
        "id": "dn8f9CGolTCr"
      }
    },
    {
      "cell_type": "code",
      "source": [
        "num = int(input(\"Enter a number: \"))\n",
        "factorial = 1\n",
        "for i in range(1, num + 1):\n",
        "    factorial *= i\n",
        "print(f\"The factorial of {num} is: {factorial}\")\n"
      ],
      "metadata": {
        "colab": {
          "base_uri": "https://localhost:8080/"
        },
        "id": "Kd29x42ulWl-",
        "outputId": "b250e437-bab4-4361-9f16-1ea702a7fa84"
      },
      "execution_count": 23,
      "outputs": [
        {
          "output_type": "stream",
          "name": "stdout",
          "text": [
            "Enter a number: 4\n",
            "The factorial of 4 is: 24\n"
          ]
        }
      ]
    },
    {
      "cell_type": "code",
      "source": [
        "n = int(input(\"Enter a number: \"))\n",
        "f = 1\n",
        "for i in range(1, n + 1):\n",
        "    f *= i\n",
        "print(f\"Factorial = {f}\")\n"
      ],
      "metadata": {
        "colab": {
          "base_uri": "https://localhost:8080/"
        },
        "id": "J1E-w6D9m8Jr",
        "outputId": "1f1ba88f-300c-43f2-b430-960328b792f4"
      },
      "execution_count": 24,
      "outputs": [
        {
          "output_type": "stream",
          "name": "stdout",
          "text": [
            "Enter a number: 4\n",
            "Factorial = 24\n"
          ]
        }
      ]
    },
    {
      "cell_type": "markdown",
      "source": [
        "### Q21. Create a list of your 5 favorite fruits."
      ],
      "metadata": {
        "id": "oJ5XL9pam69E"
      }
    },
    {
      "cell_type": "code",
      "source": [
        "my_info = [\"Laila\", 22, \"Egypt\"]\n",
        "print(\"My info list:\", my_info)\n"
      ],
      "metadata": {
        "colab": {
          "base_uri": "https://localhost:8080/"
        },
        "id": "ilfIToHynE3L",
        "outputId": "a4bd358f-1bb6-4440-b6bc-77663b4025ff"
      },
      "execution_count": 25,
      "outputs": [
        {
          "output_type": "stream",
          "name": "stdout",
          "text": [
            "My info list: ['Laila', 22, 'Egypt']\n"
          ]
        }
      ]
    },
    {
      "cell_type": "markdown",
      "source": [
        "### Q22. Add a new fruit to your list of favorite fruits."
      ],
      "metadata": {
        "id": "fvh5icS_nFNs"
      }
    },
    {
      "cell_type": "code",
      "source": [
        "my_info = [\"Laila\", 22, \"Egypt\"]\n",
        "my_info.append(\"Computer Engineering\")\n",
        "print(\"Updated personal info:\", my_info)\n"
      ],
      "metadata": {
        "colab": {
          "base_uri": "https://localhost:8080/"
        },
        "id": "NtixQfKYnIFz",
        "outputId": "d8ef4be9-20b2-4023-ef34-35f3d9321a36"
      },
      "execution_count": 26,
      "outputs": [
        {
          "output_type": "stream",
          "name": "stdout",
          "text": [
            "Updated personal info: ['Laila', 22, 'Egypt', 'Computer Engineering']\n"
          ]
        }
      ]
    },
    {
      "cell_type": "markdown",
      "source": [
        "### Q23. Remove the second item from a list."
      ],
      "metadata": {
        "id": "LKp5P9y_nIed"
      }
    },
    {
      "cell_type": "code",
      "source": [
        "my_list = [\"Laila\", 22, \"Egypt\", \"Computer Engineering\"]\n",
        "del my_list[1]\n",
        "print(\"Updated list:\", my_list)\n"
      ],
      "metadata": {
        "id": "VTkQ0KK6nKt8"
      },
      "execution_count": null,
      "outputs": []
    },
    {
      "cell_type": "markdown",
      "source": [
        "### Q24. Sort a list of numbers in descending order."
      ],
      "metadata": {
        "id": "ojEZ6kdGnLMz"
      }
    },
    {
      "cell_type": "code",
      "source": [
        "numbers = [10, 5, 25, 3, 18]\n",
        "numbers.sort(reverse=True)\n",
        "print(\"Sorted in descending order:\", n)\n"
      ],
      "metadata": {
        "colab": {
          "base_uri": "https://localhost:8080/"
        },
        "id": "jemBjwwunNnD",
        "outputId": "2ac63ca3-a652-46d0-bde9-eff11a6d66e9"
      },
      "execution_count": 27,
      "outputs": [
        {
          "output_type": "stream",
          "name": "stdout",
          "text": [
            "Sorted in descending order: 4\n"
          ]
        }
      ]
    },
    {
      "cell_type": "markdown",
      "source": [
        "### Q25. Find the maximum and minimum values in a list."
      ],
      "metadata": {
        "id": "5fqpv0P8nN8U"
      }
    },
    {
      "cell_type": "code",
      "source": [
        "numbers = [10, 5, 25, 3, 18]\n",
        "maximum = max(numbers)\n",
        "minimum = min(numbers)\n",
        "print(\"Maximum value:\", maximum)\n",
        "print(\"Minimum value:\", minimum)\n"
      ],
      "metadata": {
        "id": "c3h24LJXnQK9"
      },
      "execution_count": null,
      "outputs": []
    },
    {
      "cell_type": "markdown",
      "source": [
        "### Q26. Count how many times a value appears in a list."
      ],
      "metadata": {
        "id": "U-Q7ZY6InQfb"
      }
    },
    {
      "cell_type": "code",
      "source": [
        "numbers = [2, 4, 6, 2, 8, 2, 10]\n",
        "count_2 = numbers.count(2)\n",
        "print(\"The number 2 appears\", count_2, \"times.\")\n"
      ],
      "metadata": {
        "colab": {
          "base_uri": "https://localhost:8080/"
        },
        "id": "Alt-43JvnSbU",
        "outputId": "24b603b3-dbcb-440c-c470-476837db296e"
      },
      "execution_count": 28,
      "outputs": [
        {
          "output_type": "stream",
          "name": "stdout",
          "text": [
            "The number 2 appears 3 times.\n"
          ]
        }
      ]
    },
    {
      "cell_type": "markdown",
      "source": [
        "### Q27. Check if a specific value exists in a list."
      ],
      "metadata": {
        "id": "VRKw1J18nS1z"
      }
    },
    {
      "cell_type": "code",
      "source": [
        "names = [\"Laila\", \"Sara\", \"Mona\", \"Aya\"]\n",
        "if \"Laila\" in names:\n",
        "    print(\"Yes, Laila is in the list.\")\n",
        "else:\n",
        "    print(\"No, Laila is not in the list.\")\n"
      ],
      "metadata": {
        "colab": {
          "base_uri": "https://localhost:8080/"
        },
        "id": "k-7-3WEDnU1u",
        "outputId": "c4394c1e-cf40-4fd0-fac3-d33219451ff8"
      },
      "execution_count": 29,
      "outputs": [
        {
          "output_type": "stream",
          "name": "stdout",
          "text": [
            "Yes, Laila is in the list.\n"
          ]
        }
      ]
    },
    {
      "cell_type": "markdown",
      "source": [
        "### Q28. Reverse a list without using reverse() function."
      ],
      "metadata": {
        "id": "yBebcCrCnVZ1"
      }
    },
    {
      "cell_type": "code",
      "source": [
        "numbers = [1, 2, 3, 4, 5]\n",
        "list1 = numbers[::-1]\n",
        "print(\"Reversed list:\",list1)\n"
      ],
      "metadata": {
        "colab": {
          "base_uri": "https://localhost:8080/"
        },
        "id": "BXGlXaldnXg0",
        "outputId": "f03a4a34-93d7-48a6-d8b5-4262ea588189"
      },
      "execution_count": 30,
      "outputs": [
        {
          "output_type": "stream",
          "name": "stdout",
          "text": [
            "Reversed list: [5, 4, 3, 2, 1]\n"
          ]
        }
      ]
    },
    {
      "cell_type": "markdown",
      "source": [
        "### Q29. Make a copy of a list and modify the copy only."
      ],
      "metadata": {
        "id": "ITSWn_O2nX2c"
      }
    },
    {
      "cell_type": "code",
      "source": [
        "org_list = [\"Laila\", 22, \"Egypt\"]\n",
        "list_copy = org_list.copy()\n",
        "list_copy[1] = 23\n",
        "print(\"Org list:\", org_list)\n",
        "print(\" list_copy:\", list_copy)\n"
      ],
      "metadata": {
        "colab": {
          "base_uri": "https://localhost:8080/"
        },
        "id": "J_n_k8MHnZuu",
        "outputId": "6c0e4373-372e-4824-a702-b6159236ca07"
      },
      "execution_count": 31,
      "outputs": [
        {
          "output_type": "stream",
          "name": "stdout",
          "text": [
            "Org list: ['Laila', 22, 'Egypt']\n",
            " list_copy: ['Laila', 23, 'Egypt']\n"
          ]
        }
      ]
    },
    {
      "cell_type": "markdown",
      "source": [
        "### Q30. Use slicing to get the first 3 items of a list."
      ],
      "metadata": {
        "id": "mLvpTLEmnaPc"
      }
    },
    {
      "cell_type": "code",
      "source": [
        "my_list = [\"Laila\", 22, \"Egypt\", \"Computer Engineering\", \"AI\"]\n",
        "three = my_list[:3]\n",
        "print(\"First 3 items:\", three)\n"
      ],
      "metadata": {
        "colab": {
          "base_uri": "https://localhost:8080/"
        },
        "id": "QsdygAu4nc9c",
        "outputId": "3b29314c-10af-461f-cad4-8bb29dd4c266"
      },
      "execution_count": 33,
      "outputs": [
        {
          "output_type": "stream",
          "name": "stdout",
          "text": [
            "First 3 items: ['Laila', 22, 'Egypt']\n"
          ]
        }
      ]
    },
    {
      "cell_type": "markdown",
      "source": [
        "### Q31. Create a tuple with 4 elements and print its length."
      ],
      "metadata": {
        "id": "OmGp05ClndKN"
      }
    },
    {
      "cell_type": "code",
      "source": [
        "my_tuple = (\"Laila\", 22, \"Egypt\", \"AI\")\n",
        "print(\"Length of the tuple:\", len(my_tuple))\n"
      ],
      "metadata": {
        "colab": {
          "base_uri": "https://localhost:8080/"
        },
        "id": "uBuQBP5znfjs",
        "outputId": "ea52df7e-ce12-4c92-aa79-6a2630c4eefa"
      },
      "execution_count": 34,
      "outputs": [
        {
          "output_type": "stream",
          "name": "stdout",
          "text": [
            "Length of the tuple: 4\n"
          ]
        }
      ]
    },
    {
      "cell_type": "markdown",
      "source": [
        "### Q32. Access the last element of a tuple."
      ],
      "metadata": {
        "id": "Tts147iUnf3v"
      }
    },
    {
      "cell_type": "code",
      "source": [
        "my_tuple = (\"Laila\", 22, \"Egypt\", \"AI\")\n",
        "last_item = my_tuple[-1]\n",
        "print(\"The last element is:\", last_item)\n",
        "\n"
      ],
      "metadata": {
        "colab": {
          "base_uri": "https://localhost:8080/"
        },
        "id": "kqiqcQZcnhn7",
        "outputId": "021b60de-bd37-46e8-e84f-189e268d61c7"
      },
      "execution_count": 37,
      "outputs": [
        {
          "output_type": "stream",
          "name": "stdout",
          "text": [
            "The last element is: AI\n"
          ]
        }
      ]
    },
    {
      "cell_type": "markdown",
      "source": [
        "### Q33. Convert a tuple into a list."
      ],
      "metadata": {
        "id": "rpoZX0NVnh3m"
      }
    },
    {
      "cell_type": "code",
      "source": [
        "my_tuple = (\"Laila\", 22, \"Egypt\")\n",
        "my_list = list(my_tuple)\n",
        "print(\"Converted list:\", my_list)\n"
      ],
      "metadata": {
        "colab": {
          "base_uri": "https://localhost:8080/"
        },
        "id": "R3_KvcHenjuO",
        "outputId": "20f1211d-91b7-472c-8000-3b39a50e10e9"
      },
      "execution_count": 38,
      "outputs": [
        {
          "output_type": "stream",
          "name": "stdout",
          "text": [
            "Converted list: ['Laila', 22, 'Egypt']\n"
          ]
        }
      ]
    },
    {
      "cell_type": "markdown",
      "source": [
        "### Q34. Convert a list into a tuple."
      ],
      "metadata": {
        "id": "qPAvrWZZnkIy"
      }
    },
    {
      "cell_type": "code",
      "source": [
        "my_list = [\"Laila\", 22, \"Egypt\"]\n",
        "my_tuple = tuple(my_list)\n",
        "print(\"Converted tuple:\", my_tuple)\n"
      ],
      "metadata": {
        "colab": {
          "base_uri": "https://localhost:8080/"
        },
        "id": "2VxbbBC2nmEp",
        "outputId": "38acf994-2f7a-497f-d499-492fe71da287"
      },
      "execution_count": 39,
      "outputs": [
        {
          "output_type": "stream",
          "name": "stdout",
          "text": [
            "Converted tuple: ('Laila', 22, 'Egypt')\n"
          ]
        }
      ]
    },
    {
      "cell_type": "markdown",
      "source": [
        "### Q35. Check if a value exists in a tuple."
      ],
      "metadata": {
        "id": "xo1xIm7DnmWV"
      }
    },
    {
      "cell_type": "code",
      "source": [
        "my_tuple = (\"Laila\", 22, \"Egypt\")\n",
        "if \"Egypt\" in my_tuple:\n",
        "    print(\"Yes, 'Egypt' exists in the tuple.\")\n",
        "else:\n",
        "    print(\"No, 'Egypt' is not in the tuple.\")\n"
      ],
      "metadata": {
        "colab": {
          "base_uri": "https://localhost:8080/"
        },
        "id": "FXZfht_dnoRk",
        "outputId": "475fb794-dc7e-4b2d-9b88-2740fb7d873a"
      },
      "execution_count": 40,
      "outputs": [
        {
          "output_type": "stream",
          "name": "stdout",
          "text": [
            "Yes, 'Egypt' exists in the tuple.\n"
          ]
        }
      ]
    },
    {
      "cell_type": "markdown",
      "source": [
        "### Q36. Concatenate two tuples."
      ],
      "metadata": {
        "id": "60MNetH7noht"
      }
    },
    {
      "cell_type": "code",
      "source": [
        "tuple1 = (\"Laila\", 22)\n",
        "tuple2 = (\"Egypt\", \"AI \")\n",
        "combined = tuple1 + tuple2\n",
        "print(\"Concatenated tuple:\", combined)\n"
      ],
      "metadata": {
        "colab": {
          "base_uri": "https://localhost:8080/"
        },
        "id": "r_4pnlMznrEl",
        "outputId": "9b79f0df-a8e0-4363-d4fe-2dac56893058"
      },
      "execution_count": 42,
      "outputs": [
        {
          "output_type": "stream",
          "name": "stdout",
          "text": [
            "Concatenated tuple: ('Laila', 22, 'Egypt', 'AI ')\n"
          ]
        }
      ]
    },
    {
      "cell_type": "markdown",
      "source": [
        "### Q37. Repeat a tuple 3 times."
      ],
      "metadata": {
        "id": "4nqh3SEenrYY"
      }
    },
    {
      "cell_type": "code",
      "source": [
        "my_tuple = (\"Laila\", 22)\n",
        "tuple1 = my_tuple * 3\n",
        "print(\"Repeated tuple:\", tuple1)\n"
      ],
      "metadata": {
        "colab": {
          "base_uri": "https://localhost:8080/"
        },
        "id": "b988Ry1Snt6A",
        "outputId": "13e8374a-b9e1-4ee1-a5da-15a42365b4e2"
      },
      "execution_count": 43,
      "outputs": [
        {
          "output_type": "stream",
          "name": "stdout",
          "text": [
            "Repeated tuple: ('Laila', 22, 'Laila', 22, 'Laila', 22)\n"
          ]
        }
      ]
    },
    {
      "cell_type": "markdown",
      "source": [
        "### Q38. Find the index of an element in a tuple."
      ],
      "metadata": {
        "id": "j1tQTrMWnuUp"
      }
    },
    {
      "cell_type": "code",
      "source": [
        "my_tuple = (\"Laila\", 22, \"Egypt\", \"AI Student\")\n",
        "index1 = my_tuple.index(\"Egypt\")\n",
        "print(\"Index of 'Egypt':\", index1)\n"
      ],
      "metadata": {
        "colab": {
          "base_uri": "https://localhost:8080/"
        },
        "id": "hVoSv6KXnwOu",
        "outputId": "8222aa01-3c5a-44bc-e5e5-f83c54693953"
      },
      "execution_count": 44,
      "outputs": [
        {
          "output_type": "stream",
          "name": "stdout",
          "text": [
            "Index of 'Egypt': 2\n"
          ]
        }
      ]
    },
    {
      "cell_type": "markdown",
      "source": [
        "### Q39. Use tuple unpacking to assign values to variables."
      ],
      "metadata": {
        "id": "ZS5SMr2Anwgo"
      }
    },
    {
      "cell_type": "code",
      "source": [
        "my_tuple = (\"Laila\", 22, \"Egypt\")\n",
        "name, age, country = my_tuple\n",
        "print(\"Name:\", name)\n",
        "print(\"Age:\", age)\n",
        "print(\"Country:\", country)\n"
      ],
      "metadata": {
        "colab": {
          "base_uri": "https://localhost:8080/"
        },
        "id": "tnpz9zGvn3l0",
        "outputId": "d9b74edc-b088-4303-df42-f0434be69d91"
      },
      "execution_count": 45,
      "outputs": [
        {
          "output_type": "stream",
          "name": "stdout",
          "text": [
            "Name: Laila\n",
            "Age: 22\n",
            "Country: Egypt\n"
          ]
        }
      ]
    },
    {
      "cell_type": "markdown",
      "source": [
        "### Q40. Create a nested list and access an inner element."
      ],
      "metadata": {
        "id": "kPakWceRnzWG"
      }
    },
    {
      "cell_type": "code",
      "source": [
        "nested = [[\"Laila\", 22], [\"Egypt\", \"AI\"]]\n",
        "print(nested[1][1])"
      ],
      "metadata": {
        "colab": {
          "base_uri": "https://localhost:8080/"
        },
        "id": "o05y1LIbny4O",
        "outputId": "457023b5-c202-4e0b-93fb-4624dac6665a"
      },
      "execution_count": 48,
      "outputs": [
        {
          "output_type": "stream",
          "name": "stdout",
          "text": [
            "AI\n"
          ]
        }
      ]
    },
    {
      "cell_type": "markdown",
      "source": [
        "### Q41. Create a set of 5 unique colors."
      ],
      "metadata": {
        "id": "6RnKexVwx7tI"
      }
    },
    {
      "cell_type": "code",
      "source": [
        "colors = {\"red\", \"red\", \"green\", \"yellow\", \"purple\"}\n",
        "print(\"Set of colors:\", colors)\n"
      ],
      "metadata": {
        "colab": {
          "base_uri": "https://localhost:8080/"
        },
        "id": "8heDNHHQx7Qr",
        "outputId": "9b3190cd-d70d-4c95-e81b-c877269735ff"
      },
      "execution_count": 49,
      "outputs": [
        {
          "output_type": "stream",
          "name": "stdout",
          "text": [
            "Set of colors: {'red', 'yellow', 'green', 'purple'}\n"
          ]
        }
      ]
    },
    {
      "cell_type": "markdown",
      "source": [
        "### Q42. Add a new color to the set."
      ],
      "metadata": {
        "id": "-CFE357Mx-FJ"
      }
    },
    {
      "cell_type": "code",
      "source": [
        "colors = {\"red\", \"blue\", \"green\", \"yellow\", \"purple\"}\n",
        "colors.add(\"pink\")\n",
        "print(\"Updated colors set:\", colors)\n"
      ],
      "metadata": {
        "colab": {
          "base_uri": "https://localhost:8080/"
        },
        "id": "MTOPKQqAyC5R",
        "outputId": "0a8856d0-14c5-4144-b221-6ad64a84605d"
      },
      "execution_count": 50,
      "outputs": [
        {
          "output_type": "stream",
          "name": "stdout",
          "text": [
            "Updated colors set: {'blue', 'pink', 'red', 'purple', 'green', 'yellow'}\n"
          ]
        }
      ]
    },
    {
      "cell_type": "markdown",
      "source": [
        "### Q43. Remove an item from the set using `remove()`."
      ],
      "metadata": {
        "id": "iFRCooLLyBQg"
      }
    },
    {
      "cell_type": "code",
      "source": [
        "colors = {\"red\", \"blue\", \"green\", \"yellow\", \"purple\"}\n",
        "colors.remove(\"green\")\n",
        "print(\"Updated colors set:\", colors)\n"
      ],
      "metadata": {
        "colab": {
          "base_uri": "https://localhost:8080/"
        },
        "id": "XbyLRfUWyFgJ",
        "outputId": "65e2d45e-81a9-4da5-9463-9dd399503132"
      },
      "execution_count": 51,
      "outputs": [
        {
          "output_type": "stream",
          "name": "stdout",
          "text": [
            "Updated colors set: {'blue', 'red', 'purple', 'yellow'}\n"
          ]
        }
      ]
    },
    {
      "cell_type": "markdown",
      "source": [
        "### Q44. Use `discard()` to remove an item that may or may not exist."
      ],
      "metadata": {
        "id": "xyQ5KiDjyF7Q"
      }
    },
    {
      "cell_type": "code",
      "source": [
        "colors = {\"red\", \"blue\", \"green\", \"yellow\", \"purple\"}\n",
        "colors.discard(\"orange\") #الامر ده بيحذف الحاجه الموجوده و لو مش موجوده بيحذفها برضوا\n",
        "colors.discard(\"blue\")\n",
        "print(\"Updated colors set:\", colors)\n"
      ],
      "metadata": {
        "colab": {
          "base_uri": "https://localhost:8080/"
        },
        "id": "AOgSMZ3GyH3J",
        "outputId": "206ca7ed-906b-4cde-a81e-a6e9ca413bb1"
      },
      "execution_count": 52,
      "outputs": [
        {
          "output_type": "stream",
          "name": "stdout",
          "text": [
            "Updated colors set: {'red', 'purple', 'green', 'yellow'}\n"
          ]
        }
      ]
    },
    {
      "cell_type": "markdown",
      "source": [
        "### Q45. Create a set from a list with duplicate values."
      ],
      "metadata": {
        "id": "JHd-7SCxyIJr"
      }
    },
    {
      "cell_type": "code",
      "source": [
        "my_list = [1, 2, 2, 3, 4, 4, 5]\n",
        "my_set = set(my_list)\n",
        "print(\"Set without duplicate:\", my_set)\n"
      ],
      "metadata": {
        "colab": {
          "base_uri": "https://localhost:8080/"
        },
        "id": "D-Mhx7LayKkp",
        "outputId": "b5d627ec-4738-458e-ad5d-6103956f255d"
      },
      "execution_count": 54,
      "outputs": [
        {
          "output_type": "stream",
          "name": "stdout",
          "text": [
            "Set without duplicate: {1, 2, 3, 4, 5}\n"
          ]
        }
      ]
    },
    {
      "cell_type": "markdown",
      "source": [
        "### Q46. Find the union of two sets."
      ],
      "metadata": {
        "id": "ISK8AUoMyLQa"
      }
    },
    {
      "cell_type": "code",
      "source": [
        "set1 = {1, 2, 3}\n",
        "set2 = {3, 4, 5}\n",
        "union_set = set1.union(set2)\n",
        "print(\"Union of the sets:\", union_set)\n"
      ],
      "metadata": {
        "colab": {
          "base_uri": "https://localhost:8080/"
        },
        "id": "WuDUbEsCyNCw",
        "outputId": "21f9195a-474a-4e03-d82e-e82aac25de9b"
      },
      "execution_count": 55,
      "outputs": [
        {
          "output_type": "stream",
          "name": "stdout",
          "text": [
            "Union of the sets: {1, 2, 3, 4, 5}\n"
          ]
        }
      ]
    },
    {
      "cell_type": "markdown",
      "source": [
        "### Q47. Find the intersection of two sets."
      ],
      "metadata": {
        "id": "yjK1sm9YyNdv"
      }
    },
    {
      "cell_type": "code",
      "source": [
        "set1 = {1, 2, 3, 4}\n",
        "set2 = {3, 4, 5, 6}\n",
        "intersection_set = set1.intersection(set2)\n",
        "print(\"Intersection of the sets:\", intersection_set)\n"
      ],
      "metadata": {
        "colab": {
          "base_uri": "https://localhost:8080/"
        },
        "id": "ZNgI9PBlyPJX",
        "outputId": "a2d820ff-c76c-4780-9c32-6885fed00f5a"
      },
      "execution_count": 56,
      "outputs": [
        {
          "output_type": "stream",
          "name": "stdout",
          "text": [
            "Intersection of the sets: {3, 4}\n"
          ]
        }
      ]
    },
    {
      "cell_type": "markdown",
      "source": [
        "### Q48. Find the difference between two sets."
      ],
      "metadata": {
        "id": "HdsMPmWiyPnJ"
      }
    },
    {
      "cell_type": "code",
      "source": [
        "set1 = {1, 2, 3, 4, 5}\n",
        "set2 = {3, 4, 6}\n",
        "difference_set = set1.difference(set2)\n",
        "print(\"Difference is:\", difference_set)\n"
      ],
      "metadata": {
        "colab": {
          "base_uri": "https://localhost:8080/"
        },
        "id": "NiY7ETpryRl6",
        "outputId": "df00eddf-5105-4d6c-9ab0-5f4272540905"
      },
      "execution_count": 58,
      "outputs": [
        {
          "output_type": "stream",
          "name": "stdout",
          "text": [
            "Difference is: {1, 2, 5}\n"
          ]
        }
      ]
    },
    {
      "cell_type": "markdown",
      "source": [
        "### Q49. Check if a set is a subset of another set."
      ],
      "metadata": {
        "id": "yxpyXXusyR1p"
      }
    },
    {
      "cell_type": "code",
      "source": [
        "set1 = {1, 2}\n",
        "set2 = {1, 2, 3, 4}\n",
        "is_subset = set1.issubset(set2)\n",
        "print(\"Is set1 a subset of set2?\", is_subset)\n"
      ],
      "metadata": {
        "colab": {
          "base_uri": "https://localhost:8080/"
        },
        "id": "6mhCpxSxyTrJ",
        "outputId": "a2b2f6ca-3677-4640-f63b-452429c8ab73"
      },
      "execution_count": 59,
      "outputs": [
        {
          "output_type": "stream",
          "name": "stdout",
          "text": [
            "Is set1 a subset of set2? True\n"
          ]
        }
      ]
    },
    {
      "cell_type": "markdown",
      "source": [
        "### Q50. Check if two sets are disjoint."
      ],
      "metadata": {
        "id": "EN5-4EZvyUAI"
      }
    },
    {
      "cell_type": "code",
      "source": [
        "set1 = {1, 2, 3}\n",
        "set2 = {4, 5, 6}\n",
        "are_disjoint = set1.isdisjoint(set2)\n",
        "print(\"Are the sets disjoint?\", are_disjoint)\n"
      ],
      "metadata": {
        "colab": {
          "base_uri": "https://localhost:8080/"
        },
        "id": "29HXml44yXga",
        "outputId": "074cc4e7-47ee-4f2c-ceb5-4ae14fd07acf"
      },
      "execution_count": 60,
      "outputs": [
        {
          "output_type": "stream",
          "name": "stdout",
          "text": [
            "Are the sets disjoint? True\n"
          ]
        }
      ]
    },
    {
      "cell_type": "markdown",
      "source": [
        "### Q51. Create a dictionary with 3 items: name, age, and city."
      ],
      "metadata": {
        "id": "inBsRzHsyXuR"
      }
    },
    {
      "cell_type": "code",
      "source": [
        "my_info = {\"name\": \"Laila\",\"age\": 22,\"city\": \"Cairo\"}\n",
        "print(\"My dictionary:\", my_info)\n"
      ],
      "metadata": {
        "colab": {
          "base_uri": "https://localhost:8080/"
        },
        "id": "uDZA3fBpyba4",
        "outputId": "cb27d786-3ed9-4ed8-e49e-f0afb894ec0f"
      },
      "execution_count": 61,
      "outputs": [
        {
          "output_type": "stream",
          "name": "stdout",
          "text": [
            "My dictionary: {'name': 'Laila', 'age': 22, 'city': 'Cairo'}\n"
          ]
        }
      ]
    },
    {
      "cell_type": "markdown",
      "source": [
        "### Q52. Add a new key-value pair to the dictionary."
      ],
      "metadata": {
        "id": "pQWIzoNgyb1Q"
      }
    },
    {
      "cell_type": "code",
      "source": [
        "my_info = {\"name\": \"Laila\", \"age\": 22, \"city\": \"Cairo\"}\n",
        "my_info[\"student\"] = \"Computer Engineering\"\n",
        "print(\"Updated dictionary:\", my_info)\n"
      ],
      "metadata": {
        "colab": {
          "base_uri": "https://localhost:8080/"
        },
        "id": "IXaDCi-tydYh",
        "outputId": "558c65f5-eef3-478e-fa75-82d3f788059a"
      },
      "execution_count": 62,
      "outputs": [
        {
          "output_type": "stream",
          "name": "stdout",
          "text": [
            "Updated dictionary: {'name': 'Laila', 'age': 22, 'city': 'Cairo', 'student': 'Computer Engineering'}\n"
          ]
        }
      ]
    },
    {
      "cell_type": "markdown",
      "source": [
        "### Q53. Update the value of an existing key in the dictionary."
      ],
      "metadata": {
        "id": "1AqVG1c-yftp"
      }
    },
    {
      "cell_type": "code",
      "source": [
        "my_info = { \"name\": \"Laila\",\"age\": 22, \"city\": \"Cairo\"}\n",
        "my_info[\"age\"] = 20\n",
        "print(\"Updated dictionary:\", my_info)\n"
      ],
      "metadata": {
        "colab": {
          "base_uri": "https://localhost:8080/"
        },
        "id": "LKq9LA7DyirL",
        "outputId": "cb3b0dc9-df75-468b-c6ed-c51d10b08938"
      },
      "execution_count": 64,
      "outputs": [
        {
          "output_type": "stream",
          "name": "stdout",
          "text": [
            "Updated dictionary: {'name': 'Laila', 'age': 20, 'city': 'Cairo'}\n"
          ]
        }
      ]
    },
    {
      "cell_type": "markdown",
      "source": [
        "### Q54. Remove a key from the dictionary using `pop()`."
      ],
      "metadata": {
        "id": "qUe2-rKCyi4x"
      }
    },
    {
      "cell_type": "code",
      "source": [
        "my_info = { \"name\": \"Laila\", \"age\": 23, \"city\": \"Cairo\"}\n",
        "removed_value = my_info.pop(\"city\")\n",
        "print(\"Removed value:\", removed_value)\n",
        "print(\"Updated dictionary:\", my_info)\n"
      ],
      "metadata": {
        "colab": {
          "base_uri": "https://localhost:8080/"
        },
        "id": "Ob8xuCosylOQ",
        "outputId": "c0428e70-cfff-429c-97b1-0b0a773208f3"
      },
      "execution_count": 65,
      "outputs": [
        {
          "output_type": "stream",
          "name": "stdout",
          "text": [
            "Removed value: Cairo\n",
            "Updated dictionary: {'name': 'Laila', 'age': 23}\n"
          ]
        }
      ]
    },
    {
      "cell_type": "markdown",
      "source": [
        "### Q55. Check if a key exists in the dictionary."
      ],
      "metadata": {
        "id": "dWR_KP9OyliS"
      }
    },
    {
      "cell_type": "code",
      "source": [
        "my_info = { \"name\": \"Laila\",\"age\": 23,\"city\": \"Cairo\"}\n",
        "if \"age\" in my_info:\n",
        "    print(\"Yes, 'age' exists in the dictionary.\")\n",
        "else:\n",
        "    print(\"No, 'age' does not exist.\")\n"
      ],
      "metadata": {
        "colab": {
          "base_uri": "https://localhost:8080/"
        },
        "id": "cwzhnx3Zyn_B",
        "outputId": "40735f95-666a-4eea-d47f-8c1c9cf3e3bf"
      },
      "execution_count": 66,
      "outputs": [
        {
          "output_type": "stream",
          "name": "stdout",
          "text": [
            "Yes, 'age' exists in the dictionary.\n"
          ]
        }
      ]
    },
    {
      "cell_type": "markdown",
      "source": [
        "### Q56. Loop through a dictionary and print all keys and values."
      ],
      "metadata": {
        "id": "MNRL-tWLyoQu"
      }
    },
    {
      "cell_type": "code",
      "source": [
        "my_info = { \"name\": \"Laila\",\"age\": 20,\"city\": \"Cairo\"}\n",
        "for key, value in my_info.items():\n",
        "    print(key, \":\", value)\n"
      ],
      "metadata": {
        "colab": {
          "base_uri": "https://localhost:8080/"
        },
        "id": "F_ervKxJyqTh",
        "outputId": "9af81a54-9195-4ad2-cc70-6b6721c41286"
      },
      "execution_count": 68,
      "outputs": [
        {
          "output_type": "stream",
          "name": "stdout",
          "text": [
            "name : Laila\n",
            "age : 20\n",
            "city : Cairo\n"
          ]
        }
      ]
    },
    {
      "cell_type": "markdown",
      "source": [
        "### Q57. Get all keys from a dictionary using `keys()`."
      ],
      "metadata": {
        "id": "W228HtzhyqsR"
      }
    },
    {
      "cell_type": "code",
      "source": [
        "my_info = { \"name\": \"Laila\", \"age\": 23, \"city\": \"Cairo\"}\n",
        "keys = my_info.keys()\n",
        "print(\"Keys:\", keys)\n"
      ],
      "metadata": {
        "colab": {
          "base_uri": "https://localhost:8080/"
        },
        "id": "FZpJWFUQysYB",
        "outputId": "c053215e-d8f3-4dd3-b1f1-011af8a87b00"
      },
      "execution_count": 69,
      "outputs": [
        {
          "output_type": "stream",
          "name": "stdout",
          "text": [
            "Keys: dict_keys(['name', 'age', 'city'])\n"
          ]
        }
      ]
    },
    {
      "cell_type": "markdown",
      "source": [
        "### Q58. Get all values from a dictionary using `values()`."
      ],
      "metadata": {
        "id": "UC3hL3aByswy"
      }
    },
    {
      "cell_type": "code",
      "source": [
        "\n",
        "my_info = {\"name\": \"Laila\", \"age\": 20,\"city\": \"Cairo\"}\n",
        "values = my_info.values()\n",
        "print(\"Values:\", values)\n"
      ],
      "metadata": {
        "colab": {
          "base_uri": "https://localhost:8080/"
        },
        "id": "gezNeNrGyuZg",
        "outputId": "0aec76f5-215a-462a-80f6-69f5fd9aab87"
      },
      "execution_count": 70,
      "outputs": [
        {
          "output_type": "stream",
          "name": "stdout",
          "text": [
            "Values: dict_values(['Laila', 20, 'Cairo'])\n"
          ]
        }
      ]
    },
    {
      "cell_type": "markdown",
      "source": [
        "### Q59. Get all key-value pairs using `items()`."
      ],
      "metadata": {
        "id": "1gBdMQiBywz6"
      }
    },
    {
      "cell_type": "code",
      "source": [
        "my_info = {\"name\": \"Laila\",\"age\": 23,\"city\": \"Cairo\"}\n",
        "items = my_info.items()\n",
        "print(\"Key-value pairs:\", items)\n"
      ],
      "metadata": {
        "colab": {
          "base_uri": "https://localhost:8080/"
        },
        "id": "VsTY8cHGyxVS",
        "outputId": "d1a3ad2f-4744-4533-d698-b1f73387963b"
      },
      "execution_count": 71,
      "outputs": [
        {
          "output_type": "stream",
          "name": "stdout",
          "text": [
            "Key-value pairs: dict_items([('name', 'Laila'), ('age', 23), ('city', 'Cairo')])\n"
          ]
        }
      ]
    },
    {
      "cell_type": "markdown",
      "source": [
        "### Q60. Create a dictionary from two lists: one for keys and one for values."
      ],
      "metadata": {
        "id": "qvtvrkREyy6p"
      }
    },
    {
      "cell_type": "code",
      "source": [
        "keys = [\"name\", \"age\", \"city\"]\n",
        "values = [\"Laila\", 23, \"Cairo\"]\n",
        "my_dict = dict(zip(keys, values))\n",
        "print(\"Created dictionary:\", my_dict)\n"
      ],
      "metadata": {
        "colab": {
          "base_uri": "https://localhost:8080/"
        },
        "id": "b9I_pTAPyzeJ",
        "outputId": "75aa03ee-17da-4865-ab51-d4ab77314cb6"
      },
      "execution_count": 72,
      "outputs": [
        {
          "output_type": "stream",
          "name": "stdout",
          "text": [
            "Created dictionary: {'name': 'Laila', 'age': 23, 'city': 'Cairo'}\n"
          ]
        }
      ]
    },
    {
      "cell_type": "code",
      "source": [
        "keys = [\"name\", \"age\", \"city\"]\n",
        "values = [\"Laila\", 23, \"Cairo\"]\n",
        "my_dict = {}\n",
        "for i in range(len(keys)):\n",
        "    my_dict[keys[i]] = values[i]\n",
        "print(\"Created dictionary:\", my_dict)\n"
      ],
      "metadata": {
        "colab": {
          "base_uri": "https://localhost:8080/"
        },
        "id": "ymEj9iT34MFx",
        "outputId": "80293dd8-d4c0-4fd6-806d-e35f3a332364"
      },
      "execution_count": 73,
      "outputs": [
        {
          "output_type": "stream",
          "name": "stdout",
          "text": [
            "Created dictionary: {'name': 'Laila', 'age': 23, 'city': 'Cairo'}\n"
          ]
        }
      ]
    }
  ]
}